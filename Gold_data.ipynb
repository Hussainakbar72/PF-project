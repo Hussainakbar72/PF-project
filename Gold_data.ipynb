{
 "cells": [
  {
   "cell_type": "markdown",
   "metadata": {},
   "source": [
    "## *Name : Hussain Akbar*\n",
    "## *Roll no : 112*"
   ]
  },
  {
   "cell_type": "code",
   "execution_count": 1433,
   "metadata": {},
   "outputs": [
    {
     "name": "stdout",
     "output_type": "stream",
     "text": [
      "running\n"
     ]
    }
   ],
   "source": [
    "print(\"running\")"
   ]
  },
  {
   "cell_type": "code",
   "execution_count": 1434,
   "metadata": {},
   "outputs": [],
   "source": [
    "import pandas as pd"
   ]
  },
  {
   "cell_type": "code",
   "execution_count": 1435,
   "metadata": {},
   "outputs": [],
   "source": [
    "df = pd.read_csv(\"Gold_data.csv\")"
   ]
  },
  {
   "cell_type": "markdown",
   "metadata": {},
   "source": [
    "## *Data cleaning*"
   ]
  },
  {
   "cell_type": "markdown",
   "metadata": {},
   "source": [
    "*Info*"
   ]
  },
  {
   "cell_type": "code",
   "execution_count": 1436,
   "metadata": {},
   "outputs": [
    {
     "name": "stdout",
     "output_type": "stream",
     "text": [
      "<class 'pandas.core.frame.DataFrame'>\n",
      "RangeIndex: 6886 entries, 0 to 6885\n",
      "Data columns (total 7 columns):\n",
      " #   Column    Non-Null Count  Dtype  \n",
      "---  ------    --------------  -----  \n",
      " 0   Date      6886 non-null   object \n",
      " 1   Price     6886 non-null   float64\n",
      " 2   Open      6886 non-null   float64\n",
      " 3   High      6886 non-null   float64\n",
      " 4   Low       6886 non-null   float64\n",
      " 5   Vol       6886 non-null   object \n",
      " 6   Change %  6886 non-null   float64\n",
      "dtypes: float64(5), object(2)\n",
      "memory usage: 376.7+ KB\n"
     ]
    }
   ],
   "source": [
    "df.info()"
   ]
  },
  {
   "cell_type": "code",
   "execution_count": 1437,
   "metadata": {},
   "outputs": [],
   "source": [
    "df = pd.DataFrame(df)"
   ]
  },
  {
   "cell_type": "markdown",
   "metadata": {},
   "source": [
    "*Head*"
   ]
  },
  {
   "cell_type": "code",
   "execution_count": 1438,
   "metadata": {},
   "outputs": [
    {
     "data": {
      "text/html": [
       "<div>\n",
       "<style scoped>\n",
       "    .dataframe tbody tr th:only-of-type {\n",
       "        vertical-align: middle;\n",
       "    }\n",
       "\n",
       "    .dataframe tbody tr th {\n",
       "        vertical-align: top;\n",
       "    }\n",
       "\n",
       "    .dataframe thead th {\n",
       "        text-align: right;\n",
       "    }\n",
       "</style>\n",
       "<table border=\"1\" class=\"dataframe\">\n",
       "  <thead>\n",
       "    <tr style=\"text-align: right;\">\n",
       "      <th></th>\n",
       "      <th>Date</th>\n",
       "      <th>Price</th>\n",
       "      <th>Open</th>\n",
       "      <th>High</th>\n",
       "      <th>Low</th>\n",
       "      <th>Vol</th>\n",
       "      <th>Change %</th>\n",
       "    </tr>\n",
       "  </thead>\n",
       "  <tbody>\n",
       "    <tr>\n",
       "      <th>0</th>\n",
       "      <td>Dec 06, 1994</td>\n",
       "      <td>375.8</td>\n",
       "      <td>375.6</td>\n",
       "      <td>376.5</td>\n",
       "      <td>375.1</td>\n",
       "      <td>0.99K</td>\n",
       "      <td>0.0008</td>\n",
       "    </tr>\n",
       "    <tr>\n",
       "      <th>1</th>\n",
       "      <td>Dec 07, 1994</td>\n",
       "      <td>376.1</td>\n",
       "      <td>377.0</td>\n",
       "      <td>377.5</td>\n",
       "      <td>375.1</td>\n",
       "      <td>1.88K</td>\n",
       "      <td>0.0008</td>\n",
       "    </tr>\n",
       "    <tr>\n",
       "      <th>2</th>\n",
       "      <td>Dec 08, 1994</td>\n",
       "      <td>376.6</td>\n",
       "      <td>375.3</td>\n",
       "      <td>376.7</td>\n",
       "      <td>374.8</td>\n",
       "      <td>0.48K</td>\n",
       "      <td>0.0013</td>\n",
       "    </tr>\n",
       "    <tr>\n",
       "      <th>3</th>\n",
       "      <td>Dec 09, 1994</td>\n",
       "      <td>377.0</td>\n",
       "      <td>375.6</td>\n",
       "      <td>377.0</td>\n",
       "      <td>375.5</td>\n",
       "      <td>0.38K</td>\n",
       "      <td>0.0011</td>\n",
       "    </tr>\n",
       "    <tr>\n",
       "      <th>4</th>\n",
       "      <td>Dec 12, 1994</td>\n",
       "      <td>377.5</td>\n",
       "      <td>376.8</td>\n",
       "      <td>377.8</td>\n",
       "      <td>376.5</td>\n",
       "      <td>0.07K</td>\n",
       "      <td>0.0013</td>\n",
       "    </tr>\n",
       "  </tbody>\n",
       "</table>\n",
       "</div>"
      ],
      "text/plain": [
       "           Date  Price   Open   High    Low    Vol  Change %\n",
       "0  Dec 06, 1994  375.8  375.6  376.5  375.1  0.99K    0.0008\n",
       "1  Dec 07, 1994  376.1  377.0  377.5  375.1  1.88K    0.0008\n",
       "2  Dec 08, 1994  376.6  375.3  376.7  374.8  0.48K    0.0013\n",
       "3  Dec 09, 1994  377.0  375.6  377.0  375.5  0.38K    0.0011\n",
       "4  Dec 12, 1994  377.5  376.8  377.8  376.5  0.07K    0.0013"
      ]
     },
     "execution_count": 1438,
     "metadata": {},
     "output_type": "execute_result"
    }
   ],
   "source": [
    "df.head()"
   ]
  },
  {
   "cell_type": "markdown",
   "metadata": {},
   "source": [
    "*column check to avoid error*"
   ]
  },
  {
   "cell_type": "code",
   "execution_count": 1439,
   "metadata": {},
   "outputs": [
    {
     "data": {
      "text/plain": [
       "['Date', 'Price', 'Open', 'High', 'Low', 'Vol', 'Change %']"
      ]
     },
     "execution_count": 1439,
     "metadata": {},
     "output_type": "execute_result"
    }
   ],
   "source": [
    "column = list(df.columns)\n",
    "column"
   ]
  },
  {
   "cell_type": "markdown",
   "metadata": {},
   "source": [
    "*Drop column that is not needed*"
   ]
  },
  {
   "cell_type": "markdown",
   "metadata": {},
   "source": []
  },
  {
   "cell_type": "code",
   "execution_count": 1440,
   "metadata": {},
   "outputs": [],
   "source": [
    "df.drop(columns='Vol',inplace=True)"
   ]
  },
  {
   "cell_type": "markdown",
   "metadata": {},
   "source": [
    "## **check n/a values**"
   ]
  },
  {
   "cell_type": "code",
   "execution_count": 1441,
   "metadata": {},
   "outputs": [
    {
     "data": {
      "text/plain": [
       "Date        0\n",
       "Price       0\n",
       "Open        0\n",
       "High        0\n",
       "Low         0\n",
       "Change %    0\n",
       "dtype: int64"
      ]
     },
     "execution_count": 1441,
     "metadata": {},
     "output_type": "execute_result"
    }
   ],
   "source": [
    "df.isna().sum()"
   ]
  },
  {
   "cell_type": "markdown",
   "metadata": {},
   "source": [
    "## **Check duplicate**"
   ]
  },
  {
   "cell_type": "code",
   "execution_count": 1442,
   "metadata": {},
   "outputs": [
    {
     "data": {
      "text/plain": [
       "2193"
      ]
     },
     "execution_count": 1442,
     "metadata": {},
     "output_type": "execute_result"
    }
   ],
   "source": [
    "df.duplicated('Open').sum()"
   ]
  },
  {
   "cell_type": "markdown",
   "metadata": {},
   "source": [
    "## **Drop duplicate**"
   ]
  },
  {
   "cell_type": "code",
   "execution_count": 1443,
   "metadata": {},
   "outputs": [
    {
     "data": {
      "text/plain": [
       "0"
      ]
     },
     "execution_count": 1443,
     "metadata": {},
     "output_type": "execute_result"
    }
   ],
   "source": [
    "df.drop_duplicates(subset='Open',inplace=True)\n",
    "df.duplicated('Open').sum()"
   ]
  },
  {
   "cell_type": "markdown",
   "metadata": {},
   "source": [
    "## **Again check**"
   ]
  },
  {
   "cell_type": "code",
   "execution_count": 1444,
   "metadata": {},
   "outputs": [
    {
     "data": {
      "text/plain": [
       "0"
      ]
     },
     "execution_count": 1444,
     "metadata": {},
     "output_type": "execute_result"
    }
   ],
   "source": [
    "df.duplicated('Open').sum()"
   ]
  },
  {
   "cell_type": "markdown",
   "metadata": {},
   "source": [
    " ## **Description**"
   ]
  },
  {
   "cell_type": "code",
   "execution_count": 1445,
   "metadata": {},
   "outputs": [
    {
     "data": {
      "text/html": [
       "<div>\n",
       "<style scoped>\n",
       "    .dataframe tbody tr th:only-of-type {\n",
       "        vertical-align: middle;\n",
       "    }\n",
       "\n",
       "    .dataframe tbody tr th {\n",
       "        vertical-align: top;\n",
       "    }\n",
       "\n",
       "    .dataframe thead th {\n",
       "        text-align: right;\n",
       "    }\n",
       "</style>\n",
       "<table border=\"1\" class=\"dataframe\">\n",
       "  <thead>\n",
       "    <tr style=\"text-align: right;\">\n",
       "      <th></th>\n",
       "      <th>Price</th>\n",
       "      <th>Open</th>\n",
       "      <th>High</th>\n",
       "      <th>Low</th>\n",
       "      <th>Change %</th>\n",
       "    </tr>\n",
       "  </thead>\n",
       "  <tbody>\n",
       "    <tr>\n",
       "      <th>count</th>\n",
       "      <td>4693.000000</td>\n",
       "      <td>4693.000000</td>\n",
       "      <td>4693.000000</td>\n",
       "      <td>4693.000000</td>\n",
       "      <td>4693.000000</td>\n",
       "    </tr>\n",
       "    <tr>\n",
       "      <th>mean</th>\n",
       "      <td>1021.398395</td>\n",
       "      <td>1018.012320</td>\n",
       "      <td>1021.997315</td>\n",
       "      <td>1013.627805</td>\n",
       "      <td>0.000336</td>\n",
       "    </tr>\n",
       "    <tr>\n",
       "      <th>std</th>\n",
       "      <td>526.668740</td>\n",
       "      <td>524.411408</td>\n",
       "      <td>526.725132</td>\n",
       "      <td>521.834371</td>\n",
       "      <td>0.013429</td>\n",
       "    </tr>\n",
       "    <tr>\n",
       "      <th>min</th>\n",
       "      <td>253.000000</td>\n",
       "      <td>252.900000</td>\n",
       "      <td>252.900000</td>\n",
       "      <td>252.500000</td>\n",
       "      <td>-0.111300</td>\n",
       "    </tr>\n",
       "    <tr>\n",
       "      <th>25%</th>\n",
       "      <td>427.500000</td>\n",
       "      <td>427.300000</td>\n",
       "      <td>428.500000</td>\n",
       "      <td>426.500000</td>\n",
       "      <td>-0.004900</td>\n",
       "    </tr>\n",
       "    <tr>\n",
       "      <th>50%</th>\n",
       "      <td>1159.700000</td>\n",
       "      <td>1155.500000</td>\n",
       "      <td>1160.600000</td>\n",
       "      <td>1149.200000</td>\n",
       "      <td>0.000300</td>\n",
       "    </tr>\n",
       "    <tr>\n",
       "      <th>75%</th>\n",
       "      <td>1413.100000</td>\n",
       "      <td>1404.200000</td>\n",
       "      <td>1408.000000</td>\n",
       "      <td>1398.700000</td>\n",
       "      <td>0.006000</td>\n",
       "    </tr>\n",
       "    <tr>\n",
       "      <th>max</th>\n",
       "      <td>2115.200000</td>\n",
       "      <td>2121.700000</td>\n",
       "      <td>2121.700000</td>\n",
       "      <td>2121.700000</td>\n",
       "      <td>0.127100</td>\n",
       "    </tr>\n",
       "  </tbody>\n",
       "</table>\n",
       "</div>"
      ],
      "text/plain": [
       "             Price         Open         High          Low     Change %\n",
       "count  4693.000000  4693.000000  4693.000000  4693.000000  4693.000000\n",
       "mean   1021.398395  1018.012320  1021.997315  1013.627805     0.000336\n",
       "std     526.668740   524.411408   526.725132   521.834371     0.013429\n",
       "min     253.000000   252.900000   252.900000   252.500000    -0.111300\n",
       "25%     427.500000   427.300000   428.500000   426.500000    -0.004900\n",
       "50%    1159.700000  1155.500000  1160.600000  1149.200000     0.000300\n",
       "75%    1413.100000  1404.200000  1408.000000  1398.700000     0.006000\n",
       "max    2115.200000  2121.700000  2121.700000  2121.700000     0.127100"
      ]
     },
     "execution_count": 1445,
     "metadata": {},
     "output_type": "execute_result"
    }
   ],
   "source": [
    "df.describe()"
   ]
  },
  {
   "cell_type": "markdown",
   "metadata": {},
   "source": [
    "# *Data agregation*"
   ]
  },
  {
   "cell_type": "markdown",
   "metadata": {},
   "source": [
    "### Applying aggregation across all the columns "
   ]
  },
  {
   "cell_type": "code",
   "execution_count": 1446,
   "metadata": {},
   "outputs": [
    {
     "data": {
      "text/html": [
       "<div>\n",
       "<style scoped>\n",
       "    .dataframe tbody tr th:only-of-type {\n",
       "        vertical-align: middle;\n",
       "    }\n",
       "\n",
       "    .dataframe tbody tr th {\n",
       "        vertical-align: top;\n",
       "    }\n",
       "\n",
       "    .dataframe thead th {\n",
       "        text-align: right;\n",
       "    }\n",
       "</style>\n",
       "<table border=\"1\" class=\"dataframe\">\n",
       "  <thead>\n",
       "    <tr style=\"text-align: right;\">\n",
       "      <th></th>\n",
       "      <th>Date</th>\n",
       "      <th>Price</th>\n",
       "      <th>Open</th>\n",
       "      <th>High</th>\n",
       "      <th>Low</th>\n",
       "      <th>Change %</th>\n",
       "    </tr>\n",
       "  </thead>\n",
       "  <tbody>\n",
       "    <tr>\n",
       "      <th>sum</th>\n",
       "      <td>Dec 06, 1994Dec 07, 1994Dec 08, 1994Dec 12, 19...</td>\n",
       "      <td>4793422.67</td>\n",
       "      <td>4777531.82</td>\n",
       "      <td>4796233.4</td>\n",
       "      <td>4756955.29</td>\n",
       "      <td>1.5759</td>\n",
       "    </tr>\n",
       "    <tr>\n",
       "      <th>min</th>\n",
       "      <td>Apr 01, 1998</td>\n",
       "      <td>253.00</td>\n",
       "      <td>252.90</td>\n",
       "      <td>252.9</td>\n",
       "      <td>252.50</td>\n",
       "      <td>-0.1113</td>\n",
       "    </tr>\n",
       "  </tbody>\n",
       "</table>\n",
       "</div>"
      ],
      "text/plain": [
       "                                                  Date       Price  \\\n",
       "sum  Dec 06, 1994Dec 07, 1994Dec 08, 1994Dec 12, 19...  4793422.67   \n",
       "min                                       Apr 01, 1998      253.00   \n",
       "\n",
       "           Open       High         Low  Change %  \n",
       "sum  4777531.82  4796233.4  4756955.29    1.5759  \n",
       "min      252.90      252.9      252.50   -0.1113  "
      ]
     },
     "execution_count": 1446,
     "metadata": {},
     "output_type": "execute_result"
    }
   ],
   "source": [
    "df.aggregate(['sum', 'min'])"
   ]
  },
  {
   "cell_type": "markdown",
   "metadata": {},
   "source": [
    "## **We are going to find aggregation for these columns** \n",
    "This function lets you perform several calculations at once, like getting the total, average, and maximum of a column in one go."
   ]
  },
  {
   "cell_type": "code",
   "execution_count": 1447,
   "metadata": {},
   "outputs": [
    {
     "data": {
      "text/html": [
       "<div>\n",
       "<style scoped>\n",
       "    .dataframe tbody tr th:only-of-type {\n",
       "        vertical-align: middle;\n",
       "    }\n",
       "\n",
       "    .dataframe tbody tr th {\n",
       "        vertical-align: top;\n",
       "    }\n",
       "\n",
       "    .dataframe thead th {\n",
       "        text-align: right;\n",
       "    }\n",
       "</style>\n",
       "<table border=\"1\" class=\"dataframe\">\n",
       "  <thead>\n",
       "    <tr style=\"text-align: right;\">\n",
       "      <th></th>\n",
       "      <th>Price</th>\n",
       "      <th>High</th>\n",
       "    </tr>\n",
       "  </thead>\n",
       "  <tbody>\n",
       "    <tr>\n",
       "      <th>sum</th>\n",
       "      <td>4793422.67</td>\n",
       "      <td>NaN</td>\n",
       "    </tr>\n",
       "    <tr>\n",
       "      <th>min</th>\n",
       "      <td>253.00</td>\n",
       "      <td>252.9</td>\n",
       "    </tr>\n",
       "    <tr>\n",
       "      <th>max</th>\n",
       "      <td>NaN</td>\n",
       "      <td>2121.7</td>\n",
       "    </tr>\n",
       "  </tbody>\n",
       "</table>\n",
       "</div>"
      ],
      "text/plain": [
       "          Price    High\n",
       "sum  4793422.67     NaN\n",
       "min      253.00   252.9\n",
       "max         NaN  2121.7"
      ]
     },
     "execution_count": 1447,
     "metadata": {},
     "output_type": "execute_result"
    }
   ],
   "source": [
    "df.aggregate({\"Price\":['sum', 'min'], \n",
    "              \"High\":['max', 'min'], \n",
    "             }) "
   ]
  },
  {
   "cell_type": "markdown",
   "metadata": {},
   "source": [
    "## **Common Aggregations with groupby():**\n",
    "Think of it like sorting your data into groups (e.g., by category) and then calculating things like totals or averages for each group."
   ]
  },
  {
   "cell_type": "code",
   "execution_count": 1448,
   "metadata": {},
   "outputs": [
    {
     "data": {
      "text/html": [
       "<div>\n",
       "<style scoped>\n",
       "    .dataframe tbody tr th:only-of-type {\n",
       "        vertical-align: middle;\n",
       "    }\n",
       "\n",
       "    .dataframe tbody tr th {\n",
       "        vertical-align: top;\n",
       "    }\n",
       "\n",
       "    .dataframe thead tr th {\n",
       "        text-align: left;\n",
       "    }\n",
       "\n",
       "    .dataframe thead tr:last-of-type th {\n",
       "        text-align: right;\n",
       "    }\n",
       "</style>\n",
       "<table border=\"1\" class=\"dataframe\">\n",
       "  <thead>\n",
       "    <tr>\n",
       "      <th></th>\n",
       "      <th colspan=\"4\" halign=\"left\">Open</th>\n",
       "    </tr>\n",
       "    <tr>\n",
       "      <th></th>\n",
       "      <th>sum</th>\n",
       "      <th>mean</th>\n",
       "      <th>max</th>\n",
       "      <th>min</th>\n",
       "    </tr>\n",
       "    <tr>\n",
       "      <th>Price</th>\n",
       "      <th></th>\n",
       "      <th></th>\n",
       "      <th></th>\n",
       "      <th></th>\n",
       "    </tr>\n",
       "  </thead>\n",
       "  <tbody>\n",
       "    <tr>\n",
       "      <th>253.0</th>\n",
       "      <td>254.0</td>\n",
       "      <td>254.0</td>\n",
       "      <td>254.0</td>\n",
       "      <td>254.0</td>\n",
       "    </tr>\n",
       "    <tr>\n",
       "      <th>253.2</th>\n",
       "      <td>253.5</td>\n",
       "      <td>253.5</td>\n",
       "      <td>253.5</td>\n",
       "      <td>253.5</td>\n",
       "    </tr>\n",
       "    <tr>\n",
       "      <th>253.5</th>\n",
       "      <td>254.9</td>\n",
       "      <td>254.9</td>\n",
       "      <td>254.9</td>\n",
       "      <td>254.9</td>\n",
       "    </tr>\n",
       "    <tr>\n",
       "      <th>253.7</th>\n",
       "      <td>253.7</td>\n",
       "      <td>253.7</td>\n",
       "      <td>253.7</td>\n",
       "      <td>253.7</td>\n",
       "    </tr>\n",
       "    <tr>\n",
       "      <th>253.8</th>\n",
       "      <td>253.8</td>\n",
       "      <td>253.8</td>\n",
       "      <td>253.8</td>\n",
       "      <td>253.8</td>\n",
       "    </tr>\n",
       "    <tr>\n",
       "      <th>...</th>\n",
       "      <td>...</td>\n",
       "      <td>...</td>\n",
       "      <td>...</td>\n",
       "      <td>...</td>\n",
       "    </tr>\n",
       "    <tr>\n",
       "      <th>2062.9</th>\n",
       "      <td>2024.6</td>\n",
       "      <td>2024.6</td>\n",
       "      <td>2024.6</td>\n",
       "      <td>2024.6</td>\n",
       "    </tr>\n",
       "    <tr>\n",
       "      <th>2073.0</th>\n",
       "      <td>2121.7</td>\n",
       "      <td>2121.7</td>\n",
       "      <td>2121.7</td>\n",
       "      <td>2121.7</td>\n",
       "    </tr>\n",
       "    <tr>\n",
       "      <th>2084.2</th>\n",
       "      <td>2068.7</td>\n",
       "      <td>2068.7</td>\n",
       "      <td>2068.7</td>\n",
       "      <td>2068.7</td>\n",
       "    </tr>\n",
       "    <tr>\n",
       "      <th>2093.3</th>\n",
       "      <td>2098.5</td>\n",
       "      <td>2098.5</td>\n",
       "      <td>2098.5</td>\n",
       "      <td>2098.5</td>\n",
       "    </tr>\n",
       "    <tr>\n",
       "      <th>2115.2</th>\n",
       "      <td>2086.7</td>\n",
       "      <td>2086.7</td>\n",
       "      <td>2086.7</td>\n",
       "      <td>2086.7</td>\n",
       "    </tr>\n",
       "  </tbody>\n",
       "</table>\n",
       "<p>4016 rows × 4 columns</p>\n",
       "</div>"
      ],
      "text/plain": [
       "          Open                        \n",
       "           sum    mean     max     min\n",
       "Price                                 \n",
       "253.0    254.0   254.0   254.0   254.0\n",
       "253.2    253.5   253.5   253.5   253.5\n",
       "253.5    254.9   254.9   254.9   254.9\n",
       "253.7    253.7   253.7   253.7   253.7\n",
       "253.8    253.8   253.8   253.8   253.8\n",
       "...        ...     ...     ...     ...\n",
       "2062.9  2024.6  2024.6  2024.6  2024.6\n",
       "2073.0  2121.7  2121.7  2121.7  2121.7\n",
       "2084.2  2068.7  2068.7  2068.7  2068.7\n",
       "2093.3  2098.5  2098.5  2098.5  2098.5\n",
       "2115.2  2086.7  2086.7  2086.7  2086.7\n",
       "\n",
       "[4016 rows x 4 columns]"
      ]
     },
     "execution_count": 1448,
     "metadata": {},
     "output_type": "execute_result"
    }
   ],
   "source": [
    "df.groupby('Price').agg({'Open': ['sum', 'mean', 'max', 'min']})\n"
   ]
  },
  {
   "cell_type": "markdown",
   "metadata": {},
   "source": [
    "## **Used to summarize and aggregate data with multiple dimensions.**\n",
    "It’s like an Excel pivot table. You can reorganize your data to show summaries by different categories and calculations."
   ]
  },
  {
   "cell_type": "code",
   "execution_count": 1449,
   "metadata": {},
   "outputs": [
    {
     "data": {
      "text/html": [
       "<div>\n",
       "<style scoped>\n",
       "    .dataframe tbody tr th:only-of-type {\n",
       "        vertical-align: middle;\n",
       "    }\n",
       "\n",
       "    .dataframe tbody tr th {\n",
       "        vertical-align: top;\n",
       "    }\n",
       "\n",
       "    .dataframe thead th {\n",
       "        text-align: right;\n",
       "    }\n",
       "</style>\n",
       "<table border=\"1\" class=\"dataframe\">\n",
       "  <thead>\n",
       "    <tr style=\"text-align: right;\">\n",
       "      <th></th>\n",
       "      <th>Low</th>\n",
       "    </tr>\n",
       "    <tr>\n",
       "      <th>High</th>\n",
       "      <th></th>\n",
       "    </tr>\n",
       "  </thead>\n",
       "  <tbody>\n",
       "    <tr>\n",
       "      <th>252.9</th>\n",
       "      <td>252.9</td>\n",
       "    </tr>\n",
       "    <tr>\n",
       "      <th>253.7</th>\n",
       "      <td>253.7</td>\n",
       "    </tr>\n",
       "    <tr>\n",
       "      <th>253.8</th>\n",
       "      <td>253.8</td>\n",
       "    </tr>\n",
       "    <tr>\n",
       "      <th>253.9</th>\n",
       "      <td>253.9</td>\n",
       "    </tr>\n",
       "    <tr>\n",
       "      <th>254.0</th>\n",
       "      <td>252.5</td>\n",
       "    </tr>\n",
       "    <tr>\n",
       "      <th>...</th>\n",
       "      <td>...</td>\n",
       "    </tr>\n",
       "    <tr>\n",
       "      <th>2068.4</th>\n",
       "      <td>2018.7</td>\n",
       "    </tr>\n",
       "    <tr>\n",
       "      <th>2080.0</th>\n",
       "      <td>2065.0</td>\n",
       "    </tr>\n",
       "    <tr>\n",
       "      <th>2098.5</th>\n",
       "      <td>2090.5</td>\n",
       "    </tr>\n",
       "    <tr>\n",
       "      <th>2115.0</th>\n",
       "      <td>2085.9</td>\n",
       "    </tr>\n",
       "    <tr>\n",
       "      <th>2121.7</th>\n",
       "      <td>2121.7</td>\n",
       "    </tr>\n",
       "  </tbody>\n",
       "</table>\n",
       "<p>4077 rows × 1 columns</p>\n",
       "</div>"
      ],
      "text/plain": [
       "           Low\n",
       "High          \n",
       "252.9    252.9\n",
       "253.7    253.7\n",
       "253.8    253.8\n",
       "253.9    253.9\n",
       "254.0    252.5\n",
       "...        ...\n",
       "2068.4  2018.7\n",
       "2080.0  2065.0\n",
       "2098.5  2090.5\n",
       "2115.0  2085.9\n",
       "2121.7  2121.7\n",
       "\n",
       "[4077 rows x 1 columns]"
      ]
     },
     "execution_count": 1449,
     "metadata": {},
     "output_type": "execute_result"
    }
   ],
   "source": [
    "df.pivot_table(values='Low', index='High', aggfunc='sum')"
   ]
  },
  {
   "cell_type": "markdown",
   "metadata": {},
   "source": [
    "## **apply() – Custom Aggregation Function**\n",
    "Allows applying custom functions to each group.\n",
    "Lets you write your own function to apply on each row or group of data."
   ]
  },
  {
   "cell_type": "code",
   "execution_count": 1450,
   "metadata": {},
   "outputs": [
    {
     "data": {
      "text/plain": [
       "High\n",
       "252.9     0.0\n",
       "253.7     0.0\n",
       "253.8     0.0\n",
       "253.9     0.0\n",
       "254.0     0.0\n",
       "         ... \n",
       "2068.4    0.0\n",
       "2080.0    0.0\n",
       "2098.5    0.0\n",
       "2115.0    0.0\n",
       "2121.7    0.0\n",
       "Name: Low, Length: 4077, dtype: float64"
      ]
     },
     "execution_count": 1450,
     "metadata": {},
     "output_type": "execute_result"
    }
   ],
   "source": [
    "df.groupby('High')['Low'].apply(lambda x: x.max() - x.min())"
   ]
  },
  {
   "cell_type": "markdown",
   "metadata": {},
   "source": [
    "## **sum() – Add up values**\n",
    "Adds up all the numbers in a column."
   ]
  },
  {
   "cell_type": "code",
   "execution_count": 1451,
   "metadata": {},
   "outputs": [
    {
     "data": {
      "text/plain": [
       "4793422.67"
      ]
     },
     "execution_count": 1451,
     "metadata": {},
     "output_type": "execute_result"
    }
   ],
   "source": [
    "df['Price'].sum()"
   ]
  },
  {
   "cell_type": "markdown",
   "metadata": {},
   "source": [
    "## **mean() – Calculating Average**\n",
    "Finds the average of a numerical column."
   ]
  },
  {
   "cell_type": "code",
   "execution_count": 1452,
   "metadata": {},
   "outputs": [
    {
     "data": {
      "text/plain": [
       "4693"
      ]
     },
     "execution_count": 1452,
     "metadata": {},
     "output_type": "execute_result"
    }
   ],
   "source": [
    "df['Price'].count()"
   ]
  },
  {
   "cell_type": "markdown",
   "metadata": {},
   "source": [
    "## **median() – Median Value**\n",
    "Calculates the median (middle value) of a column."
   ]
  },
  {
   "cell_type": "code",
   "execution_count": 1453,
   "metadata": {},
   "outputs": [
    {
     "data": {
      "text/plain": [
       "1160.6"
      ]
     },
     "execution_count": 1453,
     "metadata": {},
     "output_type": "execute_result"
    }
   ],
   "source": [
    "df['High'].median()"
   ]
  },
  {
   "cell_type": "markdown",
   "metadata": {},
   "source": [
    "##  **std() – Standard Deviation**\n",
    "Computes the standard deviation of a numerical column."
   ]
  },
  {
   "cell_type": "code",
   "execution_count": 1454,
   "metadata": {},
   "outputs": [
    {
     "data": {
      "text/plain": [
       "526.725131609219"
      ]
     },
     "execution_count": 1454,
     "metadata": {},
     "output_type": "execute_result"
    }
   ],
   "source": [
    "df['High'].std()"
   ]
  },
  {
   "cell_type": "markdown",
   "metadata": {},
   "source": [
    "## **var() – Variance Calculation**\n",
    "Computes the variance of a numerical column."
   ]
  },
  {
   "cell_type": "code",
   "execution_count": 1455,
   "metadata": {},
   "outputs": [
    {
     "data": {
      "text/plain": [
       "277439.36426874914"
      ]
     },
     "execution_count": 1455,
     "metadata": {},
     "output_type": "execute_result"
    }
   ],
   "source": [
    "df['High'].var()"
   ]
  },
  {
   "cell_type": "markdown",
   "metadata": {},
   "source": [
    "## **nunique() – Counting Unique Values**\n",
    "Finds the number of unique values in a column."
   ]
  },
  {
   "cell_type": "code",
   "execution_count": 1456,
   "metadata": {},
   "outputs": [
    {
     "data": {
      "text/plain": [
       "4077"
      ]
     },
     "execution_count": 1456,
     "metadata": {},
     "output_type": "execute_result"
    }
   ],
   "source": [
    "df['High'].nunique()"
   ]
  },
  {
   "cell_type": "markdown",
   "metadata": {},
   "source": [
    "## **Handling Missing Values**\n",
    "isnull() / notnull() – Check for missing values"
   ]
  },
  {
   "cell_type": "markdown",
   "metadata": {},
   "source": [
    "for missing values"
   ]
  },
  {
   "cell_type": "code",
   "execution_count": 1457,
   "metadata": {},
   "outputs": [
    {
     "data": {
      "text/plain": [
       "Date        0\n",
       "Price       0\n",
       "Open        0\n",
       "High        0\n",
       "Low         0\n",
       "Change %    0\n",
       "dtype: int64"
      ]
     },
     "execution_count": 1457,
     "metadata": {},
     "output_type": "execute_result"
    }
   ],
   "source": [
    "df.isnull().sum() "
   ]
  },
  {
   "cell_type": "markdown",
   "metadata": {},
   "source": [
    "dropna() – Remove missing values\n",
    "Removes rows or columns with missing values."
   ]
  },
  {
   "cell_type": "markdown",
   "metadata": {},
   "source": [
    "Remove rows with any missing value"
   ]
  },
  {
   "cell_type": "code",
   "execution_count": 1458,
   "metadata": {},
   "outputs": [
    {
     "data": {
      "text/html": [
       "<div>\n",
       "<style scoped>\n",
       "    .dataframe tbody tr th:only-of-type {\n",
       "        vertical-align: middle;\n",
       "    }\n",
       "\n",
       "    .dataframe tbody tr th {\n",
       "        vertical-align: top;\n",
       "    }\n",
       "\n",
       "    .dataframe thead th {\n",
       "        text-align: right;\n",
       "    }\n",
       "</style>\n",
       "<table border=\"1\" class=\"dataframe\">\n",
       "  <thead>\n",
       "    <tr style=\"text-align: right;\">\n",
       "      <th></th>\n",
       "      <th>Date</th>\n",
       "      <th>Price</th>\n",
       "      <th>Open</th>\n",
       "      <th>High</th>\n",
       "      <th>Low</th>\n",
       "      <th>Change %</th>\n",
       "    </tr>\n",
       "  </thead>\n",
       "  <tbody>\n",
       "    <tr>\n",
       "      <th>0</th>\n",
       "      <td>Dec 06, 1994</td>\n",
       "      <td>375.80</td>\n",
       "      <td>375.60</td>\n",
       "      <td>376.5</td>\n",
       "      <td>375.10</td>\n",
       "      <td>0.0008</td>\n",
       "    </tr>\n",
       "    <tr>\n",
       "      <th>1</th>\n",
       "      <td>Dec 07, 1994</td>\n",
       "      <td>376.10</td>\n",
       "      <td>377.00</td>\n",
       "      <td>377.5</td>\n",
       "      <td>375.10</td>\n",
       "      <td>0.0008</td>\n",
       "    </tr>\n",
       "    <tr>\n",
       "      <th>2</th>\n",
       "      <td>Dec 08, 1994</td>\n",
       "      <td>376.60</td>\n",
       "      <td>375.30</td>\n",
       "      <td>376.7</td>\n",
       "      <td>374.80</td>\n",
       "      <td>0.0013</td>\n",
       "    </tr>\n",
       "    <tr>\n",
       "      <th>4</th>\n",
       "      <td>Dec 12, 1994</td>\n",
       "      <td>377.50</td>\n",
       "      <td>376.80</td>\n",
       "      <td>377.8</td>\n",
       "      <td>376.50</td>\n",
       "      <td>0.0013</td>\n",
       "    </tr>\n",
       "    <tr>\n",
       "      <th>5</th>\n",
       "      <td>Dec 13, 1994</td>\n",
       "      <td>377.60</td>\n",
       "      <td>379.50</td>\n",
       "      <td>379.5</td>\n",
       "      <td>378.00</td>\n",
       "      <td>0.0003</td>\n",
       "    </tr>\n",
       "    <tr>\n",
       "      <th>...</th>\n",
       "      <td>...</td>\n",
       "      <td>...</td>\n",
       "      <td>...</td>\n",
       "      <td>...</td>\n",
       "      <td>...</td>\n",
       "      <td>...</td>\n",
       "    </tr>\n",
       "    <tr>\n",
       "      <th>6877</th>\n",
       "      <td>Nov 25, 2021</td>\n",
       "      <td>1792.40</td>\n",
       "      <td>1789.80</td>\n",
       "      <td>1795.3</td>\n",
       "      <td>1787.75</td>\n",
       "      <td>0.0031</td>\n",
       "    </tr>\n",
       "    <tr>\n",
       "      <th>6881</th>\n",
       "      <td>Dec 01, 2021</td>\n",
       "      <td>1784.30</td>\n",
       "      <td>1777.40</td>\n",
       "      <td>1795.7</td>\n",
       "      <td>1773.70</td>\n",
       "      <td>0.0044</td>\n",
       "    </tr>\n",
       "    <tr>\n",
       "      <th>6883</th>\n",
       "      <td>Dec 03, 2021</td>\n",
       "      <td>1783.90</td>\n",
       "      <td>1769.40</td>\n",
       "      <td>1788.0</td>\n",
       "      <td>1766.00</td>\n",
       "      <td>0.0120</td>\n",
       "    </tr>\n",
       "    <tr>\n",
       "      <th>6884</th>\n",
       "      <td>Dec 05, 2021</td>\n",
       "      <td>1783.80</td>\n",
       "      <td>1784.45</td>\n",
       "      <td>1789.1</td>\n",
       "      <td>1781.60</td>\n",
       "      <td>-0.0001</td>\n",
       "    </tr>\n",
       "    <tr>\n",
       "      <th>6885</th>\n",
       "      <td>Dec 06, 2021</td>\n",
       "      <td>1778.65</td>\n",
       "      <td>1783.85</td>\n",
       "      <td>1788.3</td>\n",
       "      <td>1776.65</td>\n",
       "      <td>-0.0029</td>\n",
       "    </tr>\n",
       "  </tbody>\n",
       "</table>\n",
       "<p>4693 rows × 6 columns</p>\n",
       "</div>"
      ],
      "text/plain": [
       "              Date    Price     Open    High      Low  Change %\n",
       "0     Dec 06, 1994   375.80   375.60   376.5   375.10    0.0008\n",
       "1     Dec 07, 1994   376.10   377.00   377.5   375.10    0.0008\n",
       "2     Dec 08, 1994   376.60   375.30   376.7   374.80    0.0013\n",
       "4     Dec 12, 1994   377.50   376.80   377.8   376.50    0.0013\n",
       "5     Dec 13, 1994   377.60   379.50   379.5   378.00    0.0003\n",
       "...            ...      ...      ...     ...      ...       ...\n",
       "6877  Nov 25, 2021  1792.40  1789.80  1795.3  1787.75    0.0031\n",
       "6881  Dec 01, 2021  1784.30  1777.40  1795.7  1773.70    0.0044\n",
       "6883  Dec 03, 2021  1783.90  1769.40  1788.0  1766.00    0.0120\n",
       "6884  Dec 05, 2021  1783.80  1784.45  1789.1  1781.60   -0.0001\n",
       "6885  Dec 06, 2021  1778.65  1783.85  1788.3  1776.65   -0.0029\n",
       "\n",
       "[4693 rows x 6 columns]"
      ]
     },
     "execution_count": 1458,
     "metadata": {},
     "output_type": "execute_result"
    }
   ],
   "source": [
    "df.dropna()"
   ]
  },
  {
   "cell_type": "markdown",
   "metadata": {},
   "source": [
    "Remove columns with missing values"
   ]
  },
  {
   "cell_type": "code",
   "execution_count": 1459,
   "metadata": {},
   "outputs": [
    {
     "data": {
      "text/html": [
       "<div>\n",
       "<style scoped>\n",
       "    .dataframe tbody tr th:only-of-type {\n",
       "        vertical-align: middle;\n",
       "    }\n",
       "\n",
       "    .dataframe tbody tr th {\n",
       "        vertical-align: top;\n",
       "    }\n",
       "\n",
       "    .dataframe thead th {\n",
       "        text-align: right;\n",
       "    }\n",
       "</style>\n",
       "<table border=\"1\" class=\"dataframe\">\n",
       "  <thead>\n",
       "    <tr style=\"text-align: right;\">\n",
       "      <th></th>\n",
       "      <th>Date</th>\n",
       "      <th>Price</th>\n",
       "      <th>Open</th>\n",
       "      <th>High</th>\n",
       "      <th>Low</th>\n",
       "      <th>Change %</th>\n",
       "    </tr>\n",
       "  </thead>\n",
       "  <tbody>\n",
       "    <tr>\n",
       "      <th>0</th>\n",
       "      <td>Dec 06, 1994</td>\n",
       "      <td>375.80</td>\n",
       "      <td>375.60</td>\n",
       "      <td>376.5</td>\n",
       "      <td>375.10</td>\n",
       "      <td>0.0008</td>\n",
       "    </tr>\n",
       "    <tr>\n",
       "      <th>1</th>\n",
       "      <td>Dec 07, 1994</td>\n",
       "      <td>376.10</td>\n",
       "      <td>377.00</td>\n",
       "      <td>377.5</td>\n",
       "      <td>375.10</td>\n",
       "      <td>0.0008</td>\n",
       "    </tr>\n",
       "    <tr>\n",
       "      <th>2</th>\n",
       "      <td>Dec 08, 1994</td>\n",
       "      <td>376.60</td>\n",
       "      <td>375.30</td>\n",
       "      <td>376.7</td>\n",
       "      <td>374.80</td>\n",
       "      <td>0.0013</td>\n",
       "    </tr>\n",
       "    <tr>\n",
       "      <th>4</th>\n",
       "      <td>Dec 12, 1994</td>\n",
       "      <td>377.50</td>\n",
       "      <td>376.80</td>\n",
       "      <td>377.8</td>\n",
       "      <td>376.50</td>\n",
       "      <td>0.0013</td>\n",
       "    </tr>\n",
       "    <tr>\n",
       "      <th>5</th>\n",
       "      <td>Dec 13, 1994</td>\n",
       "      <td>377.60</td>\n",
       "      <td>379.50</td>\n",
       "      <td>379.5</td>\n",
       "      <td>378.00</td>\n",
       "      <td>0.0003</td>\n",
       "    </tr>\n",
       "    <tr>\n",
       "      <th>...</th>\n",
       "      <td>...</td>\n",
       "      <td>...</td>\n",
       "      <td>...</td>\n",
       "      <td>...</td>\n",
       "      <td>...</td>\n",
       "      <td>...</td>\n",
       "    </tr>\n",
       "    <tr>\n",
       "      <th>6877</th>\n",
       "      <td>Nov 25, 2021</td>\n",
       "      <td>1792.40</td>\n",
       "      <td>1789.80</td>\n",
       "      <td>1795.3</td>\n",
       "      <td>1787.75</td>\n",
       "      <td>0.0031</td>\n",
       "    </tr>\n",
       "    <tr>\n",
       "      <th>6881</th>\n",
       "      <td>Dec 01, 2021</td>\n",
       "      <td>1784.30</td>\n",
       "      <td>1777.40</td>\n",
       "      <td>1795.7</td>\n",
       "      <td>1773.70</td>\n",
       "      <td>0.0044</td>\n",
       "    </tr>\n",
       "    <tr>\n",
       "      <th>6883</th>\n",
       "      <td>Dec 03, 2021</td>\n",
       "      <td>1783.90</td>\n",
       "      <td>1769.40</td>\n",
       "      <td>1788.0</td>\n",
       "      <td>1766.00</td>\n",
       "      <td>0.0120</td>\n",
       "    </tr>\n",
       "    <tr>\n",
       "      <th>6884</th>\n",
       "      <td>Dec 05, 2021</td>\n",
       "      <td>1783.80</td>\n",
       "      <td>1784.45</td>\n",
       "      <td>1789.1</td>\n",
       "      <td>1781.60</td>\n",
       "      <td>-0.0001</td>\n",
       "    </tr>\n",
       "    <tr>\n",
       "      <th>6885</th>\n",
       "      <td>Dec 06, 2021</td>\n",
       "      <td>1778.65</td>\n",
       "      <td>1783.85</td>\n",
       "      <td>1788.3</td>\n",
       "      <td>1776.65</td>\n",
       "      <td>-0.0029</td>\n",
       "    </tr>\n",
       "  </tbody>\n",
       "</table>\n",
       "<p>4693 rows × 6 columns</p>\n",
       "</div>"
      ],
      "text/plain": [
       "              Date    Price     Open    High      Low  Change %\n",
       "0     Dec 06, 1994   375.80   375.60   376.5   375.10    0.0008\n",
       "1     Dec 07, 1994   376.10   377.00   377.5   375.10    0.0008\n",
       "2     Dec 08, 1994   376.60   375.30   376.7   374.80    0.0013\n",
       "4     Dec 12, 1994   377.50   376.80   377.8   376.50    0.0013\n",
       "5     Dec 13, 1994   377.60   379.50   379.5   378.00    0.0003\n",
       "...            ...      ...      ...     ...      ...       ...\n",
       "6877  Nov 25, 2021  1792.40  1789.80  1795.3  1787.75    0.0031\n",
       "6881  Dec 01, 2021  1784.30  1777.40  1795.7  1773.70    0.0044\n",
       "6883  Dec 03, 2021  1783.90  1769.40  1788.0  1766.00    0.0120\n",
       "6884  Dec 05, 2021  1783.80  1784.45  1789.1  1781.60   -0.0001\n",
       "6885  Dec 06, 2021  1778.65  1783.85  1788.3  1776.65   -0.0029\n",
       "\n",
       "[4693 rows x 6 columns]"
      ]
     },
     "execution_count": 1459,
     "metadata": {},
     "output_type": "execute_result"
    }
   ],
   "source": [
    "df.dropna(axis=1)"
   ]
  },
  {
   "cell_type": "markdown",
   "metadata": {},
   "source": [
    "fillna() – Fill missing values\n",
    "Fills missing values with a specified value or strategy."
   ]
  },
  {
   "cell_type": "code",
   "execution_count": 1460,
   "metadata": {},
   "outputs": [
    {
     "data": {
      "text/html": [
       "<div>\n",
       "<style scoped>\n",
       "    .dataframe tbody tr th:only-of-type {\n",
       "        vertical-align: middle;\n",
       "    }\n",
       "\n",
       "    .dataframe tbody tr th {\n",
       "        vertical-align: top;\n",
       "    }\n",
       "\n",
       "    .dataframe thead th {\n",
       "        text-align: right;\n",
       "    }\n",
       "</style>\n",
       "<table border=\"1\" class=\"dataframe\">\n",
       "  <thead>\n",
       "    <tr style=\"text-align: right;\">\n",
       "      <th></th>\n",
       "      <th>Date</th>\n",
       "      <th>Price</th>\n",
       "      <th>Open</th>\n",
       "      <th>High</th>\n",
       "      <th>Low</th>\n",
       "      <th>Change %</th>\n",
       "    </tr>\n",
       "  </thead>\n",
       "  <tbody>\n",
       "    <tr>\n",
       "      <th>0</th>\n",
       "      <td>Dec 06, 1994</td>\n",
       "      <td>375.80</td>\n",
       "      <td>375.60</td>\n",
       "      <td>376.5</td>\n",
       "      <td>375.10</td>\n",
       "      <td>0.0008</td>\n",
       "    </tr>\n",
       "    <tr>\n",
       "      <th>1</th>\n",
       "      <td>Dec 07, 1994</td>\n",
       "      <td>376.10</td>\n",
       "      <td>377.00</td>\n",
       "      <td>377.5</td>\n",
       "      <td>375.10</td>\n",
       "      <td>0.0008</td>\n",
       "    </tr>\n",
       "    <tr>\n",
       "      <th>2</th>\n",
       "      <td>Dec 08, 1994</td>\n",
       "      <td>376.60</td>\n",
       "      <td>375.30</td>\n",
       "      <td>376.7</td>\n",
       "      <td>374.80</td>\n",
       "      <td>0.0013</td>\n",
       "    </tr>\n",
       "    <tr>\n",
       "      <th>4</th>\n",
       "      <td>Dec 12, 1994</td>\n",
       "      <td>377.50</td>\n",
       "      <td>376.80</td>\n",
       "      <td>377.8</td>\n",
       "      <td>376.50</td>\n",
       "      <td>0.0013</td>\n",
       "    </tr>\n",
       "    <tr>\n",
       "      <th>5</th>\n",
       "      <td>Dec 13, 1994</td>\n",
       "      <td>377.60</td>\n",
       "      <td>379.50</td>\n",
       "      <td>379.5</td>\n",
       "      <td>378.00</td>\n",
       "      <td>0.0003</td>\n",
       "    </tr>\n",
       "    <tr>\n",
       "      <th>...</th>\n",
       "      <td>...</td>\n",
       "      <td>...</td>\n",
       "      <td>...</td>\n",
       "      <td>...</td>\n",
       "      <td>...</td>\n",
       "      <td>...</td>\n",
       "    </tr>\n",
       "    <tr>\n",
       "      <th>6877</th>\n",
       "      <td>Nov 25, 2021</td>\n",
       "      <td>1792.40</td>\n",
       "      <td>1789.80</td>\n",
       "      <td>1795.3</td>\n",
       "      <td>1787.75</td>\n",
       "      <td>0.0031</td>\n",
       "    </tr>\n",
       "    <tr>\n",
       "      <th>6881</th>\n",
       "      <td>Dec 01, 2021</td>\n",
       "      <td>1784.30</td>\n",
       "      <td>1777.40</td>\n",
       "      <td>1795.7</td>\n",
       "      <td>1773.70</td>\n",
       "      <td>0.0044</td>\n",
       "    </tr>\n",
       "    <tr>\n",
       "      <th>6883</th>\n",
       "      <td>Dec 03, 2021</td>\n",
       "      <td>1783.90</td>\n",
       "      <td>1769.40</td>\n",
       "      <td>1788.0</td>\n",
       "      <td>1766.00</td>\n",
       "      <td>0.0120</td>\n",
       "    </tr>\n",
       "    <tr>\n",
       "      <th>6884</th>\n",
       "      <td>Dec 05, 2021</td>\n",
       "      <td>1783.80</td>\n",
       "      <td>1784.45</td>\n",
       "      <td>1789.1</td>\n",
       "      <td>1781.60</td>\n",
       "      <td>-0.0001</td>\n",
       "    </tr>\n",
       "    <tr>\n",
       "      <th>6885</th>\n",
       "      <td>Dec 06, 2021</td>\n",
       "      <td>1778.65</td>\n",
       "      <td>1783.85</td>\n",
       "      <td>1788.3</td>\n",
       "      <td>1776.65</td>\n",
       "      <td>-0.0029</td>\n",
       "    </tr>\n",
       "  </tbody>\n",
       "</table>\n",
       "<p>4693 rows × 6 columns</p>\n",
       "</div>"
      ],
      "text/plain": [
       "              Date    Price     Open    High      Low  Change %\n",
       "0     Dec 06, 1994   375.80   375.60   376.5   375.10    0.0008\n",
       "1     Dec 07, 1994   376.10   377.00   377.5   375.10    0.0008\n",
       "2     Dec 08, 1994   376.60   375.30   376.7   374.80    0.0013\n",
       "4     Dec 12, 1994   377.50   376.80   377.8   376.50    0.0013\n",
       "5     Dec 13, 1994   377.60   379.50   379.5   378.00    0.0003\n",
       "...            ...      ...      ...     ...      ...       ...\n",
       "6877  Nov 25, 2021  1792.40  1789.80  1795.3  1787.75    0.0031\n",
       "6881  Dec 01, 2021  1784.30  1777.40  1795.7  1773.70    0.0044\n",
       "6883  Dec 03, 2021  1783.90  1769.40  1788.0  1766.00    0.0120\n",
       "6884  Dec 05, 2021  1783.80  1784.45  1789.1  1781.60   -0.0001\n",
       "6885  Dec 06, 2021  1778.65  1783.85  1788.3  1776.65   -0.0029\n",
       "\n",
       "[4693 rows x 6 columns]"
      ]
     },
     "execution_count": 1460,
     "metadata": {},
     "output_type": "execute_result"
    }
   ],
   "source": [
    "df.fillna(1) #replace missing values with 1"
   ]
  },
  {
   "cell_type": "markdown",
   "metadata": {},
   "source": [
    "## **Handling Duplicates**\n",
    "duplicated() – Identify duplicate rows\n",
    "Checks for duplicate rows in the DataFrame."
   ]
  },
  {
   "cell_type": "code",
   "execution_count": 1461,
   "metadata": {},
   "outputs": [
    {
     "data": {
      "text/plain": [
       "0"
      ]
     },
     "execution_count": 1461,
     "metadata": {},
     "output_type": "execute_result"
    }
   ],
   "source": [
    "df.duplicated().sum()  # Count duplicate rows"
   ]
  },
  {
   "cell_type": "code",
   "execution_count": 1462,
   "metadata": {},
   "outputs": [
    {
     "data": {
      "text/html": [
       "<div>\n",
       "<style scoped>\n",
       "    .dataframe tbody tr th:only-of-type {\n",
       "        vertical-align: middle;\n",
       "    }\n",
       "\n",
       "    .dataframe tbody tr th {\n",
       "        vertical-align: top;\n",
       "    }\n",
       "\n",
       "    .dataframe thead th {\n",
       "        text-align: right;\n",
       "    }\n",
       "</style>\n",
       "<table border=\"1\" class=\"dataframe\">\n",
       "  <thead>\n",
       "    <tr style=\"text-align: right;\">\n",
       "      <th></th>\n",
       "      <th>Date</th>\n",
       "      <th>Price</th>\n",
       "      <th>Open</th>\n",
       "      <th>High</th>\n",
       "      <th>Low</th>\n",
       "      <th>Change %</th>\n",
       "    </tr>\n",
       "  </thead>\n",
       "  <tbody>\n",
       "    <tr>\n",
       "      <th>0</th>\n",
       "      <td>Dec 06, 1994</td>\n",
       "      <td>375.80</td>\n",
       "      <td>375.60</td>\n",
       "      <td>376.5</td>\n",
       "      <td>375.10</td>\n",
       "      <td>0.0008</td>\n",
       "    </tr>\n",
       "    <tr>\n",
       "      <th>1</th>\n",
       "      <td>Dec 07, 1994</td>\n",
       "      <td>376.10</td>\n",
       "      <td>377.00</td>\n",
       "      <td>377.5</td>\n",
       "      <td>375.10</td>\n",
       "      <td>0.0008</td>\n",
       "    </tr>\n",
       "    <tr>\n",
       "      <th>2</th>\n",
       "      <td>Dec 08, 1994</td>\n",
       "      <td>376.60</td>\n",
       "      <td>375.30</td>\n",
       "      <td>376.7</td>\n",
       "      <td>374.80</td>\n",
       "      <td>0.0013</td>\n",
       "    </tr>\n",
       "    <tr>\n",
       "      <th>4</th>\n",
       "      <td>Dec 12, 1994</td>\n",
       "      <td>377.50</td>\n",
       "      <td>376.80</td>\n",
       "      <td>377.8</td>\n",
       "      <td>376.50</td>\n",
       "      <td>0.0013</td>\n",
       "    </tr>\n",
       "    <tr>\n",
       "      <th>5</th>\n",
       "      <td>Dec 13, 1994</td>\n",
       "      <td>377.60</td>\n",
       "      <td>379.50</td>\n",
       "      <td>379.5</td>\n",
       "      <td>378.00</td>\n",
       "      <td>0.0003</td>\n",
       "    </tr>\n",
       "    <tr>\n",
       "      <th>...</th>\n",
       "      <td>...</td>\n",
       "      <td>...</td>\n",
       "      <td>...</td>\n",
       "      <td>...</td>\n",
       "      <td>...</td>\n",
       "      <td>...</td>\n",
       "    </tr>\n",
       "    <tr>\n",
       "      <th>6877</th>\n",
       "      <td>Nov 25, 2021</td>\n",
       "      <td>1792.40</td>\n",
       "      <td>1789.80</td>\n",
       "      <td>1795.3</td>\n",
       "      <td>1787.75</td>\n",
       "      <td>0.0031</td>\n",
       "    </tr>\n",
       "    <tr>\n",
       "      <th>6881</th>\n",
       "      <td>Dec 01, 2021</td>\n",
       "      <td>1784.30</td>\n",
       "      <td>1777.40</td>\n",
       "      <td>1795.7</td>\n",
       "      <td>1773.70</td>\n",
       "      <td>0.0044</td>\n",
       "    </tr>\n",
       "    <tr>\n",
       "      <th>6883</th>\n",
       "      <td>Dec 03, 2021</td>\n",
       "      <td>1783.90</td>\n",
       "      <td>1769.40</td>\n",
       "      <td>1788.0</td>\n",
       "      <td>1766.00</td>\n",
       "      <td>0.0120</td>\n",
       "    </tr>\n",
       "    <tr>\n",
       "      <th>6884</th>\n",
       "      <td>Dec 05, 2021</td>\n",
       "      <td>1783.80</td>\n",
       "      <td>1784.45</td>\n",
       "      <td>1789.1</td>\n",
       "      <td>1781.60</td>\n",
       "      <td>-0.0001</td>\n",
       "    </tr>\n",
       "    <tr>\n",
       "      <th>6885</th>\n",
       "      <td>Dec 06, 2021</td>\n",
       "      <td>1778.65</td>\n",
       "      <td>1783.85</td>\n",
       "      <td>1788.3</td>\n",
       "      <td>1776.65</td>\n",
       "      <td>-0.0029</td>\n",
       "    </tr>\n",
       "  </tbody>\n",
       "</table>\n",
       "<p>4693 rows × 6 columns</p>\n",
       "</div>"
      ],
      "text/plain": [
       "              Date    Price     Open    High      Low  Change %\n",
       "0     Dec 06, 1994   375.80   375.60   376.5   375.10    0.0008\n",
       "1     Dec 07, 1994   376.10   377.00   377.5   375.10    0.0008\n",
       "2     Dec 08, 1994   376.60   375.30   376.7   374.80    0.0013\n",
       "4     Dec 12, 1994   377.50   376.80   377.8   376.50    0.0013\n",
       "5     Dec 13, 1994   377.60   379.50   379.5   378.00    0.0003\n",
       "...            ...      ...      ...     ...      ...       ...\n",
       "6877  Nov 25, 2021  1792.40  1789.80  1795.3  1787.75    0.0031\n",
       "6881  Dec 01, 2021  1784.30  1777.40  1795.7  1773.70    0.0044\n",
       "6883  Dec 03, 2021  1783.90  1769.40  1788.0  1766.00    0.0120\n",
       "6884  Dec 05, 2021  1783.80  1784.45  1789.1  1781.60   -0.0001\n",
       "6885  Dec 06, 2021  1778.65  1783.85  1788.3  1776.65   -0.0029\n",
       "\n",
       "[4693 rows x 6 columns]"
      ]
     },
     "execution_count": 1462,
     "metadata": {},
     "output_type": "execute_result"
    }
   ],
   "source": [
    "df.drop_duplicates()  # Remove duplicate rows"
   ]
  },
  {
   "cell_type": "markdown",
   "metadata": {},
   "source": [
    "## **Data Transformation**\n",
    "astype() – Convert data types\n",
    "Converts the data type of columns to a specific type."
   ]
  },
  {
   "cell_type": "code",
   "execution_count": 1463,
   "metadata": {},
   "outputs": [],
   "source": [
    "df['Price'] = df['High'].map({'Male': 1, 'Female': 0})  # Convert categorical values to numeric"
   ]
  },
  {
   "cell_type": "markdown",
   "metadata": {},
   "source": [
    "## **rename() – Rename columns**\n",
    "Renames column names for better understanding."
   ]
  },
  {
   "cell_type": "code",
   "execution_count": 1464,
   "metadata": {},
   "outputs": [],
   "source": [
    "df.rename(columns={'Price': 'High'}, inplace=True)"
   ]
  },
  {
   "cell_type": "markdown",
   "metadata": {},
   "source": [
    "## **Dealing with Outliers**\n",
    "clip() – Limit values within a range\n",
    "Restrict values to a specified range."
   ]
  },
  {
   "cell_type": "code",
   "execution_count": 1465,
   "metadata": {},
   "outputs": [],
   "source": [
    "df['High'] = df['Low'].clip(lower=30000, upper=100000)"
   ]
  },
  {
   "cell_type": "code",
   "execution_count": 1466,
   "metadata": {},
   "outputs": [],
   "source": [
    "q1 = df['High'].quantile(0.25)\n",
    "q3 = df['High'].quantile(0.75)\n",
    "iqr = q3 - q1"
   ]
  },
  {
   "cell_type": "markdown",
   "metadata": {},
   "source": [
    "## **Data Encoding**\n",
    "get_dummies() – One-hot encoding\n",
    "Converts categorical data into dummy variables."
   ]
  },
  {
   "cell_type": "code",
   "execution_count": 1467,
   "metadata": {},
   "outputs": [
    {
     "data": {
      "text/html": [
       "<div>\n",
       "<style scoped>\n",
       "    .dataframe tbody tr th:only-of-type {\n",
       "        vertical-align: middle;\n",
       "    }\n",
       "\n",
       "    .dataframe tbody tr th {\n",
       "        vertical-align: top;\n",
       "    }\n",
       "\n",
       "    .dataframe thead th {\n",
       "        text-align: right;\n",
       "    }\n",
       "</style>\n",
       "<table border=\"1\" class=\"dataframe\">\n",
       "  <thead>\n",
       "    <tr style=\"text-align: right;\">\n",
       "      <th></th>\n",
       "      <th>Date</th>\n",
       "      <th>Open</th>\n",
       "      <th>Low</th>\n",
       "      <th>Change %</th>\n",
       "      <th>High_30000.0</th>\n",
       "      <th>High_30000.0</th>\n",
       "    </tr>\n",
       "  </thead>\n",
       "  <tbody>\n",
       "    <tr>\n",
       "      <th>0</th>\n",
       "      <td>Dec 06, 1994</td>\n",
       "      <td>375.60</td>\n",
       "      <td>375.10</td>\n",
       "      <td>0.0008</td>\n",
       "      <td>True</td>\n",
       "      <td>True</td>\n",
       "    </tr>\n",
       "    <tr>\n",
       "      <th>1</th>\n",
       "      <td>Dec 07, 1994</td>\n",
       "      <td>377.00</td>\n",
       "      <td>375.10</td>\n",
       "      <td>0.0008</td>\n",
       "      <td>True</td>\n",
       "      <td>True</td>\n",
       "    </tr>\n",
       "    <tr>\n",
       "      <th>2</th>\n",
       "      <td>Dec 08, 1994</td>\n",
       "      <td>375.30</td>\n",
       "      <td>374.80</td>\n",
       "      <td>0.0013</td>\n",
       "      <td>True</td>\n",
       "      <td>True</td>\n",
       "    </tr>\n",
       "    <tr>\n",
       "      <th>4</th>\n",
       "      <td>Dec 12, 1994</td>\n",
       "      <td>376.80</td>\n",
       "      <td>376.50</td>\n",
       "      <td>0.0013</td>\n",
       "      <td>True</td>\n",
       "      <td>True</td>\n",
       "    </tr>\n",
       "    <tr>\n",
       "      <th>5</th>\n",
       "      <td>Dec 13, 1994</td>\n",
       "      <td>379.50</td>\n",
       "      <td>378.00</td>\n",
       "      <td>0.0003</td>\n",
       "      <td>True</td>\n",
       "      <td>True</td>\n",
       "    </tr>\n",
       "    <tr>\n",
       "      <th>...</th>\n",
       "      <td>...</td>\n",
       "      <td>...</td>\n",
       "      <td>...</td>\n",
       "      <td>...</td>\n",
       "      <td>...</td>\n",
       "      <td>...</td>\n",
       "    </tr>\n",
       "    <tr>\n",
       "      <th>6877</th>\n",
       "      <td>Nov 25, 2021</td>\n",
       "      <td>1789.80</td>\n",
       "      <td>1787.75</td>\n",
       "      <td>0.0031</td>\n",
       "      <td>True</td>\n",
       "      <td>True</td>\n",
       "    </tr>\n",
       "    <tr>\n",
       "      <th>6881</th>\n",
       "      <td>Dec 01, 2021</td>\n",
       "      <td>1777.40</td>\n",
       "      <td>1773.70</td>\n",
       "      <td>0.0044</td>\n",
       "      <td>True</td>\n",
       "      <td>True</td>\n",
       "    </tr>\n",
       "    <tr>\n",
       "      <th>6883</th>\n",
       "      <td>Dec 03, 2021</td>\n",
       "      <td>1769.40</td>\n",
       "      <td>1766.00</td>\n",
       "      <td>0.0120</td>\n",
       "      <td>True</td>\n",
       "      <td>True</td>\n",
       "    </tr>\n",
       "    <tr>\n",
       "      <th>6884</th>\n",
       "      <td>Dec 05, 2021</td>\n",
       "      <td>1784.45</td>\n",
       "      <td>1781.60</td>\n",
       "      <td>-0.0001</td>\n",
       "      <td>True</td>\n",
       "      <td>True</td>\n",
       "    </tr>\n",
       "    <tr>\n",
       "      <th>6885</th>\n",
       "      <td>Dec 06, 2021</td>\n",
       "      <td>1783.85</td>\n",
       "      <td>1776.65</td>\n",
       "      <td>-0.0029</td>\n",
       "      <td>True</td>\n",
       "      <td>True</td>\n",
       "    </tr>\n",
       "  </tbody>\n",
       "</table>\n",
       "<p>4693 rows × 6 columns</p>\n",
       "</div>"
      ],
      "text/plain": [
       "              Date     Open      Low  Change %  High_30000.0  High_30000.0\n",
       "0     Dec 06, 1994   375.60   375.10    0.0008          True          True\n",
       "1     Dec 07, 1994   377.00   375.10    0.0008          True          True\n",
       "2     Dec 08, 1994   375.30   374.80    0.0013          True          True\n",
       "4     Dec 12, 1994   376.80   376.50    0.0013          True          True\n",
       "5     Dec 13, 1994   379.50   378.00    0.0003          True          True\n",
       "...            ...      ...      ...       ...           ...           ...\n",
       "6877  Nov 25, 2021  1789.80  1787.75    0.0031          True          True\n",
       "6881  Dec 01, 2021  1777.40  1773.70    0.0044          True          True\n",
       "6883  Dec 03, 2021  1769.40  1766.00    0.0120          True          True\n",
       "6884  Dec 05, 2021  1784.45  1781.60   -0.0001          True          True\n",
       "6885  Dec 06, 2021  1783.85  1776.65   -0.0029          True          True\n",
       "\n",
       "[4693 rows x 6 columns]"
      ]
     },
     "execution_count": 1467,
     "metadata": {},
     "output_type": "execute_result"
    }
   ],
   "source": [
    "pd.get_dummies(df, columns=['High'])"
   ]
  },
  {
   "cell_type": "markdown",
   "metadata": {},
   "source": [
    "## *factorize() – Convert categorical values to numeric codes*\n",
    "Encodes labels into numeric values."
   ]
  },
  {
   "cell_type": "code",
   "execution_count": 1468,
   "metadata": {},
   "outputs": [],
   "source": [
    "df['Low'], unique_values = pd.factorize(df['Low'])"
   ]
  },
  {
   "cell_type": "markdown",
   "metadata": {},
   "source": [
    "## **Converting data type**"
   ]
  },
  {
   "cell_type": "code",
   "execution_count": 1469,
   "metadata": {},
   "outputs": [
    {
     "name": "stdout",
     "output_type": "stream",
     "text": [
      "Date         object\n",
      "High        float64\n",
      "Open        float64\n",
      "High        float64\n",
      "Low         float64\n",
      "Change %    float64\n",
      "dtype: object\n"
     ]
    }
   ],
   "source": [
    "df['Low'] = df['Low'].astype(float)\n",
    "print(df.dtypes)"
   ]
  },
  {
   "cell_type": "markdown",
   "metadata": {},
   "source": [
    "## **Data plotting**"
   ]
  },
  {
   "cell_type": "code",
   "execution_count": 1470,
   "metadata": {},
   "outputs": [],
   "source": [
    "import pandas as pd\n",
    "import matplotlib.pyplot as plt\n",
    "import seaborn as sns"
   ]
  },
  {
   "cell_type": "code",
   "execution_count": 1471,
   "metadata": {},
   "outputs": [
    {
     "data": {
      "image/png": "[encoded data removed]",
      "text/plain": [
       "<Figure size 640x480 with 1 Axes>"
      ]
     },
     "metadata": {},
     "output_type": "display_data"
    }
   ],
   "source": [
    "\n",
    "df.groupby('Low')['High'].sum().plot(kind='bar', title='Total Sales by Category')\n",
    "plt.ylabel('Total Sales')\n",
    "plt.show()"
   ]
  },
  {
   "cell_type": "code",
   "execution_count": 1485,
   "metadata": {},
   "outputs": [
    {
     "data": {
      "image/png": "[encoded data removed]",
      "text/plain": [
       "<Figure size 640x480 with 1 Axes>"
      ]
     },
     "metadata": {},
     "output_type": "display_data"
    }
   ],
   "source": [
    "# Drop the duplicated 'High' column\n",
    "df = df.loc[:, ~df.columns.duplicated()]\n",
    "\n",
    "# Plot the histogram\n",
    "df['High'].plot(kind='hist', bins=4, title='Sales Distribution')\n",
    "plt.xlabel('High')\n",
    "plt.show()"
   ]
  },
  {
   "cell_type": "code",
   "execution_count": 1492,
   "metadata": {},
   "outputs": [
    {
     "data": {
      "image/png": "[encoded data removed]",
      "text/plain": [
       "<Figure size 640x480 with 1 Axes>"
      ]
     },
     "metadata": {},
     "output_type": "display_data"
    }
   ],
   "source": [
    "df['High'].value_counts().plot(kind='pie', autopct='%1.1f%%', title='Sales Category Distribution')\n",
    "plt.ylabel('')  # Remove the default y-label\n",
    "plt.show()"
   ]
  },
  {
   "cell_type": "code",
   "execution_count": 1500,
   "metadata": {},
   "outputs": [
    {
     "data": {
      "text/plain": [
       "<Axes: xlabel='High'>"
      ]
     },
     "execution_count": 1500,
     "metadata": {},
     "output_type": "execute_result"
    },
    {
     "data": {
      "image/png": "[encoded data removed]",
      "text/plain": [
       "<Figure size 640x480 with 1 Axes>"
      ]
     },
     "metadata": {},
     "output_type": "display_data"
    }
   ],
   "source": [
    "df['High'].value_counts().plot(kind=\"bar\")"
   ]
  },
  {
   "cell_type": "code",
   "execution_count": 1499,
   "metadata": {},
   "outputs": [
    {
     "data": {
      "text/plain": [
       "<Axes: xlabel='High'>"
      ]
     },
     "execution_count": 1499,
     "metadata": {},
     "output_type": "execute_result"
    },
    {
     "data": {
      "image/png": "[encoded data removed]",
      "text/plain": [
       "<Figure size 640x480 with 1 Axes>"
      ]
     },
     "metadata": {},
     "output_type": "display_data"
    }
   ],
   "source": [
    "df['High'].value_counts().plot(kind=\"area\")"
   ]
  },
  {
   "cell_type": "code",
   "execution_count": 1498,
   "metadata": {},
   "outputs": [
    {
     "data": {
      "text/plain": [
       "<Axes: ylabel='Frequency'>"
      ]
     },
     "execution_count": 1498,
     "metadata": {},
     "output_type": "execute_result"
    },
    {
     "data": {
      "image/png": "[encoded data removed]",
      "text/plain": [
       "<Figure size 640x480 with 1 Axes>"
      ]
     },
     "metadata": {},
     "output_type": "display_data"
    }
   ],
   "source": [
    "df['High'].value_counts().plot(kind=\"hist\")"
   ]
  },
  {
   "cell_type": "code",
   "execution_count": 1502,
   "metadata": {},
   "outputs": [
    {
     "data": {
      "text/plain": [
       "<Axes: ylabel='Density'>"
      ]
     },
     "execution_count": 1502,
     "metadata": {},
     "output_type": "execute_result"
    },
    {
     "data": {
      "image/png": "[encoded data removed]",
      "text/plain": [
       "<Figure size 640x480 with 1 Axes>"
      ]
     },
     "metadata": {},
     "output_type": "display_data"
    }
   ],
   "source": [
    "df['Low'].value_counts().plot(kind=\"kde\")"
   ]
  },
  {
   "cell_type": "code",
   "execution_count": 1515,
   "metadata": {},
   "outputs": [
    {
     "data": {
      "text/plain": [
       "<Axes: xlabel='Low'>"
      ]
     },
     "execution_count": 1515,
     "metadata": {},
     "output_type": "execute_result"
    },
    {
     "data": {
      "image/png": "[encoded data removed]",
      "text/plain": [
       "<Figure size 640x480 with 1 Axes>"
      ]
     },
     "metadata": {},
     "output_type": "display_data"
    }
   ],
   "source": [
    "df['Low'].value_counts().plot(kind=\"line\")"
   ]
  },
  {
   "cell_type": "code",
   "execution_count": 1516,
   "metadata": {},
   "outputs": [
    {
     "data": {
      "text/plain": [
       "<Axes: >"
      ]
     },
     "execution_count": 1516,
     "metadata": {},
     "output_type": "execute_result"
    },
    {
     "data": {
      "image/png": "[encoded data removed]",
      "text/plain": [
       "<Figure size 640x480 with 1 Axes>"
      ]
     },
     "metadata": {},
     "output_type": "display_data"
    }
   ],
   "source": [
    "df['Date'].value_counts().plot(kind=\"box\")"
   ]
  },
  {
   "cell_type": "code",
   "execution_count": 1521,
   "metadata": {},
   "outputs": [
    {
     "data": {
      "text/plain": [
       "<Axes: xlabel='Date'>"
      ]
     },
     "execution_count": 1521,
     "metadata": {},
     "output_type": "execute_result"
    },
    {
     "data": {
      "image/png": "[encoded data removed]",
      "text/plain": [
       "<Figure size 640x480 with 1 Axes>"
      ]
     },
     "metadata": {},
     "output_type": "display_data"
    }
   ],
   "source": [
    "df['Date'].value_counts().plot(kind=\"area\")"
   ]
  },
  {
   "cell_type": "markdown",
   "metadata": {},
   "source": [
    "## *saving data*"
   ]
  },
  {
   "cell_type": "code",
   "execution_count": 1531,
   "metadata": {},
   "outputs": [],
   "source": [
    "df = pd.read_csv(\"Gold_data.csv\")\n",
    "df\n",
    "df.to_excel('Gold_data.xlsx', index = False)"
   ]
  }
 ],
 "metadata": {
  "language_info": {
   "name": "python"
  }
 },
 "nbformat": 4,
 "nbformat_minor": 2
}
